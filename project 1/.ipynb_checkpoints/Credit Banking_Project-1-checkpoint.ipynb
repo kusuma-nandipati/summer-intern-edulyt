{
 "cells": [
  {
   "cell_type": "code",
   "execution_count": 1,
   "id": "7467cdb7",
   "metadata": {},
   "outputs": [
    {
     "name": "stdout",
     "output_type": "stream",
     "text": [
      "['Customer Acqusition', 'Spend', 'Repayment']\n"
     ]
    }
   ],
   "source": [
    "#importing data\n",
    "import pandas as pd\n",
    "file_path = 'Credit Banking_Project - 1.xls' \n",
    "xls = pd.ExcelFile(file_path)\n",
    "print(xls.sheet_names)"
   ]
  },
  {
   "cell_type": "code",
   "execution_count": 2,
   "id": "d1f339d0",
   "metadata": {
    "scrolled": true
   },
   "outputs": [],
   "source": [
    "#creating data frames for each sheet\n",
    "df_acquisition = pd.read_excel(xls, 'Customer Acqusition')\n",
    "df_Spend =pd.read_excel(xls,'Spend')\n",
    "df_Repayment=pd.read_excel(xls,'Repayment')"
   ]
  },
  {
   "cell_type": "code",
   "execution_count": null,
   "id": "e5d545f4",
   "metadata": {},
   "outputs": [],
   "source": [
    "import seaborn as sns \n",
    "import matplotlib.pyplot as plt\n",
    "plt.figure(figsize=(8,5))\n",
    "sns.histplot(df_acquisition['Age'],kde=True , bins=20,color='red', edgecolor='black')\n",
    "plt.title('Age Distribution')\n",
    "plt.xlabel('Age')\n",
    "plt.ylabel('Frequency')\n",
    "plt.grid(True)\n",
    "plt.show()"
   ]
  },
  {
   "cell_type": "code",
   "execution_count": null,
   "id": "8159b66d",
   "metadata": {},
   "outputs": [],
   "source": [
    "#treating age column\n",
    "df_adults= df_acquisition[df_acquisition['Age']>=18]\n",
    "print(df_adults)\n",
    "df_minors = df_acquisition[df_acquisition['Age']<18]\n",
    "print(df_minors)\n",
    "mean_adult_age = df_adults['Age'].mean()\n",
    "print(f\"Mean age of adults: {mean_adult_age}\")\n",
    "df_minors['Age'] = mean_adult_age\n",
    "df_acquisition.loc[df_acquisition['Age']<18,'Age']=mean_adult_age\n",
    "print(df_acquisition['Age'].mean())"
   ]
  },
  {
   "cell_type": "code",
   "execution_count": 163,
   "id": "3e96ea19",
   "metadata": {},
   "outputs": [
    {
     "name": "stdout",
     "output_type": "stream",
     "text": [
      "    Costomer  year  month        Amount\n",
      "0         A1  2004      1  1.511173e+06\n",
      "1         A1  2004      2  4.138111e+04\n",
      "2         A1  2004      5  1.311966e+05\n",
      "3         A1  2005      1  3.984038e+05\n",
      "4         A1  2005      2  1.404193e+06\n",
      "..       ...   ...    ...           ...\n",
      "802      A95  2004      1  3.478339e+05\n",
      "803      A96  2004      1  3.203635e+05\n",
      "804      A97  2004      1  1.643300e+05\n",
      "805      A98  2004      1  8.748351e+04\n",
      "806      A99  2004      1  4.760204e+05\n",
      "\n",
      "[807 rows x 4 columns]\n"
     ]
    },
    {
     "data": {
      "text/html": [
       "<div>\n",
       "<style scoped>\n",
       "    .dataframe tbody tr th:only-of-type {\n",
       "        vertical-align: middle;\n",
       "    }\n",
       "\n",
       "    .dataframe tbody tr th {\n",
       "        vertical-align: top;\n",
       "    }\n",
       "\n",
       "    .dataframe thead th {\n",
       "        text-align: right;\n",
       "    }\n",
       "</style>\n",
       "<table border=\"1\" class=\"dataframe\">\n",
       "  <thead>\n",
       "    <tr style=\"text-align: right;\">\n",
       "      <th></th>\n",
       "      <th>Costomer</th>\n",
       "      <th>Amount</th>\n",
       "      <th>Segment</th>\n",
       "    </tr>\n",
       "  </thead>\n",
       "  <tbody>\n",
       "    <tr>\n",
       "      <th>0</th>\n",
       "      <td>A22</td>\n",
       "      <td>9.637819e+06</td>\n",
       "      <td>Self Employed</td>\n",
       "    </tr>\n",
       "  </tbody>\n",
       "</table>\n",
       "</div>"
      ],
      "text/plain": [
       "  Costomer        Amount        Segment\n",
       "0      A22  9.637819e+06  Self Employed"
      ]
     },
     "execution_count": 163,
     "metadata": {},
     "output_type": "execute_result"
    }
   ],
   "source": [
    "#montly spend of each customer\n",
    "df_Spend['Month']=pd.to_datetime(df_Spend['Month'],format ='%d-%b-%y')\n",
    "df_Spend['day']=df_Spend['Month'].dt.day\n",
    "df_Spend['month']=df_Spend['Month'].dt.month\n",
    "df_Spend['year']=df_Spend['Month'].dt.year\n",
    "grouped = df_Spend.groupby(['Costomer', 'year', 'month'])['Amount'].sum().reset_index()\n",
    "# grouped_df = grouped.apply(lambda x: x.reset_index(drop=True)).reset_index(drop=True)\n",
    "print(grouped[['Costomer', 'year', 'month', 'Amount']])\n",
    "#People in which segment are spending more money.\n",
    "total_spent = grouped.groupby('Costomer')['Amount'].sum().reset_index()\n",
    "top_1_customer = total_spent.sort_values(by='Amount', ascending=False).head(1)\n",
    "df_acquisition = df_acquisition.rename(columns={'Customer': 'Costomer'})\n",
    "merged_df = top_1_customer.merge(df_acquisition[['Costomer', 'Segment']], on='Costomer', how='left')\n",
    "merged_df"
   ]
  },
  {
   "cell_type": "code",
   "execution_count": 3,
   "id": "d8b68c84",
   "metadata": {},
   "outputs": [
    {
     "ename": "NameError",
     "evalue": "name 'grouped' is not defined",
     "output_type": "error",
     "traceback": [
      "\u001b[0;31m---------------------------------------------------------------------------\u001b[0m",
      "\u001b[0;31mNameError\u001b[0m                                 Traceback (most recent call last)",
      "Cell \u001b[0;32mIn[3], line 3\u001b[0m\n\u001b[1;32m      1\u001b[0m \u001b[38;5;66;03m#merging with Limit\u001b[39;00m\n\u001b[1;32m      2\u001b[0m df_acquisition \u001b[38;5;241m=\u001b[39m df_acquisition\u001b[38;5;241m.\u001b[39mrename(columns\u001b[38;5;241m=\u001b[39m{\u001b[38;5;124m'\u001b[39m\u001b[38;5;124mCustomer\u001b[39m\u001b[38;5;124m'\u001b[39m: \u001b[38;5;124m'\u001b[39m\u001b[38;5;124mCostomer\u001b[39m\u001b[38;5;124m'\u001b[39m})\n\u001b[0;32m----> 3\u001b[0m merged_df \u001b[38;5;241m=\u001b[39m grouped\u001b[38;5;241m.\u001b[39mmerge(df_acquisition[[\u001b[38;5;124m'\u001b[39m\u001b[38;5;124mCostomer\u001b[39m\u001b[38;5;124m'\u001b[39m, \u001b[38;5;124m'\u001b[39m\u001b[38;5;124mLimit\u001b[39m\u001b[38;5;124m'\u001b[39m]], on\u001b[38;5;241m=\u001b[39m\u001b[38;5;124m'\u001b[39m\u001b[38;5;124mCostomer\u001b[39m\u001b[38;5;124m'\u001b[39m, how\u001b[38;5;241m=\u001b[39m\u001b[38;5;124m'\u001b[39m\u001b[38;5;124mleft\u001b[39m\u001b[38;5;124m'\u001b[39m)\n\u001b[1;32m      4\u001b[0m \u001b[38;5;28mprint\u001b[39m(merged_df)\n\u001b[1;32m      5\u001b[0m \u001b[38;5;66;03m#Comparing limit and monthly spent of customer\u001b[39;00m\n",
      "\u001b[0;31mNameError\u001b[0m: name 'grouped' is not defined"
     ]
    }
   ],
   "source": [
    "#merging with Limit\n",
    "df_acquisition = df_acquisition.rename(columns={'Customer': 'Costomer'})\n",
    "merged_df = grouped.merge(df_acquisition[['Costomer', 'Limit']], on='Costomer', how='left')\n",
    "print(merged_df)\n",
    "#Comparing limit and monthly spent of customer\n",
    "print(\"customer who have spent more than his/her Credit Limit for any particular month\")\n",
    "over_limit = merged_df[merged_df['Amount'] > merged_df['Limit']]\n",
    "customers_over_limit = over_limit['Costomer'].unique()\n",
    "customers_over_limit"
   ]
  },
  {
   "cell_type": "code",
   "execution_count": 164,
   "id": "ac480178",
   "metadata": {},
   "outputs": [
    {
     "name": "stdout",
     "output_type": "stream",
     "text": [
      "    Costomer  year  month        Amount\n",
      "0         A1  2004      1  1.362775e+06\n",
      "1         A1  2005      1  1.581970e+03\n",
      "2         A1  2004      2  1.911800e+05\n",
      "3         A1  2005      2  1.199808e+06\n",
      "4         A1  2006      4  3.712733e+05\n",
      "..       ...   ...    ...           ...\n",
      "793      A95  2004      1  7.510949e+04\n",
      "794      A96  2004      1  1.101390e+05\n",
      "795      A97  2004      1  1.746064e+05\n",
      "796      A98  2004      1  9.780260e+04\n",
      "797      A99  2004      1  3.585899e+05\n",
      "\n",
      "[798 rows x 4 columns]\n"
     ]
    },
    {
     "data": {
      "text/html": [
       "<div>\n",
       "<style scoped>\n",
       "    .dataframe tbody tr th:only-of-type {\n",
       "        vertical-align: middle;\n",
       "    }\n",
       "\n",
       "    .dataframe tbody tr th {\n",
       "        vertical-align: top;\n",
       "    }\n",
       "\n",
       "    .dataframe thead th {\n",
       "        text-align: right;\n",
       "    }\n",
       "</style>\n",
       "<table border=\"1\" class=\"dataframe\">\n",
       "  <thead>\n",
       "    <tr style=\"text-align: right;\">\n",
       "      <th></th>\n",
       "      <th>Costomer</th>\n",
       "      <th>Amount</th>\n",
       "    </tr>\n",
       "  </thead>\n",
       "  <tbody>\n",
       "    <tr>\n",
       "      <th>15</th>\n",
       "      <td>A22</td>\n",
       "      <td>9.767171e+06</td>\n",
       "    </tr>\n",
       "    <tr>\n",
       "      <th>57</th>\n",
       "      <td>A60</td>\n",
       "      <td>9.262032e+06</td>\n",
       "    </tr>\n",
       "    <tr>\n",
       "      <th>58</th>\n",
       "      <td>A61</td>\n",
       "      <td>8.807888e+06</td>\n",
       "    </tr>\n",
       "    <tr>\n",
       "      <th>35</th>\n",
       "      <td>A40</td>\n",
       "      <td>8.805085e+06</td>\n",
       "    </tr>\n",
       "    <tr>\n",
       "      <th>42</th>\n",
       "      <td>A47</td>\n",
       "      <td>8.529826e+06</td>\n",
       "    </tr>\n",
       "    <tr>\n",
       "      <th>38</th>\n",
       "      <td>A43</td>\n",
       "      <td>8.458621e+06</td>\n",
       "    </tr>\n",
       "    <tr>\n",
       "      <th>43</th>\n",
       "      <td>A48</td>\n",
       "      <td>8.432804e+06</td>\n",
       "    </tr>\n",
       "    <tr>\n",
       "      <th>36</th>\n",
       "      <td>A41</td>\n",
       "      <td>8.374046e+06</td>\n",
       "    </tr>\n",
       "    <tr>\n",
       "      <th>44</th>\n",
       "      <td>A49</td>\n",
       "      <td>8.259841e+06</td>\n",
       "    </tr>\n",
       "    <tr>\n",
       "      <th>40</th>\n",
       "      <td>A45</td>\n",
       "      <td>8.115210e+06</td>\n",
       "    </tr>\n",
       "  </tbody>\n",
       "</table>\n",
       "</div>"
      ],
      "text/plain": [
       "   Costomer        Amount\n",
       "15      A22  9.767171e+06\n",
       "57      A60  9.262032e+06\n",
       "58      A61  8.807888e+06\n",
       "35      A40  8.805085e+06\n",
       "42      A47  8.529826e+06\n",
       "38      A43  8.458621e+06\n",
       "43      A48  8.432804e+06\n",
       "36      A41  8.374046e+06\n",
       "44      A49  8.259841e+06\n",
       "40      A45  8.115210e+06"
      ]
     },
     "execution_count": 164,
     "metadata": {},
     "output_type": "execute_result"
    }
   ],
   "source": [
    "#Monthly Repayment of each Costomer \n",
    "df_Repayment['month']=df_Repayment['Month'].dt.month\n",
    "df_Repayment['year']=df_Repayment['Month'].dt.year\n",
    "grouped=df_Repayment.groupby(['Costomer','month','year'])['Amount'].sum().reset_index()\n",
    "print(grouped[['Costomer','year','month','Amount']])\n",
    "#HIghest paying 10 customers\n",
    "total_repayment = grouped.groupby('Costomer')['Amount'].sum().reset_index()\n",
    "top_10_customers = total_repayment.sort_values(by='Amount', ascending=False).head(10)\n",
    "top_10_customers"
   ]
  },
  {
   "cell_type": "code",
   "execution_count": 165,
   "id": "164b0e98",
   "metadata": {},
   "outputs": [
    {
     "name": "stdout",
     "output_type": "stream",
     "text": [
      "the highest spending age group is----  40 and above\n"
     ]
    }
   ],
   "source": [
    "#in which age group people are spending more money\n",
    "df_acquisition = df_acquisition.rename(columns={'Customer': 'Costomer'})\n",
    "merged_df = pd.merge(df_acquisition, df_Spend, left_on='Costomer', right_on='Costomer', how='inner')\n",
    "\n",
    "merged_df['age_group'] = pd.cut(merged_df['Age'],\n",
    "                                 bins=[-float('inf'), 18, 30, 40, float('inf')],\n",
    "                                 labels=['Under 18', '18-29', '30-39', '40 and above'],\n",
    "                                 right=False)\n",
    "merged_df[['Costomer','age_group','Amount']]\n",
    "grouped = merged_df.groupby('age_group')['Amount'].sum().reset_index()\n",
    "grouped = grouped.sort_values(by='Amount', ascending=False).reset_index(drop=True)\n",
    "value = grouped.loc[0, 'age_group']\n",
    "print(\"the highest spending age group is---- \", value)"
   ]
  },
  {
   "cell_type": "code",
   "execution_count": 139,
   "id": "82e40869",
   "metadata": {},
   "outputs": [
    {
     "name": "stdout",
     "output_type": "stream",
     "text": [
      "         Segment   Total_Spend  Total_Repayment        Profit\n",
      "0  Self Employed  7.097548e+07     7.055129e+07 -4.241883e+05\n",
      "1  Normal Salary  1.077071e+08     1.071089e+08 -5.982498e+05\n",
      "2   Salaried_MNC  6.363949e+07     6.259740e+07 -1.042085e+06\n",
      "3           Govt  6.732563e+07     6.517141e+07 -2.154222e+06\n",
      "4   Salaried_Pvt  7.170431e+07     6.577945e+07 -5.924860e+06\n",
      "the mose profitable segment is---- Self Employed\n"
     ]
    }
   ],
   "source": [
    "spend_merged = pd.merge(df_acquisition[['Costomer', 'Segment']], df_Spend, on='Costomer', how='inner')\n",
    "repay_merged = pd.merge(df_acquisition[['Costomer', 'Segment']], df_Repayment, on='Costomer', how='inner')\n",
    "\n",
    "spend_by_segment = spend_merged.groupby('Segment')['Amount'].sum().reset_index(name='Total_Spend')\n",
    "repay_by_segment = repay_merged.groupby('Segment')['Amount'].sum().reset_index(name='Total_Repayment')\n",
    "\n",
    "profit_df = pd.merge(spend_by_segment, repay_by_segment, on='Segment')\n",
    "profit_df['Profit'] = profit_df['Total_Repayment'] - profit_df['Total_Spend']\n",
    "most_profitable = profit_df.sort_values(by='Profit', ascending=False).reset_index(drop=True)\n",
    "print(most_profitable)\n",
    "value=most_profitable.loc[0,'Segment']\n",
    "print(\"the mose profitable segment is----\",value)"
   ]
  },
  {
   "cell_type": "code",
   "execution_count": 143,
   "id": "fc5b64c7",
   "metadata": {},
   "outputs": [
    {
     "name": "stdout",
     "output_type": "stream",
     "text": [
      "the most spending Category is---- PETRO\n"
     ]
    }
   ],
   "source": [
    "#In which category the customers are spending more money?\n",
    "grouped=df_Spend.groupby(['Type'])['Amount'].sum().reset_index()\n",
    "most_spend_category=grouped.sort_values(by='Amount',ascending=False).reset_index(drop=True)\n",
    "most_spend_category\n",
    "value=most_spend_category.loc[0,'Type']\n",
    "print(\"the most spending Category is----\",value)"
   ]
  },
  {
   "cell_type": "code",
   "execution_count": 153,
   "id": "6445440a",
   "metadata": {},
   "outputs": [
    {
     "name": "stdout",
     "output_type": "stream",
     "text": [
      "    Costomer  year  monthly    due_amount       interest\n",
      "0         A1  2004        1  4.209483e+06  122075.004360\n",
      "1         A1  2004        2  0.000000e+00       0.000000\n",
      "2         A1  2004        5  0.000000e+00       0.000000\n",
      "3         A1  2005        1  3.339330e+06   96840.574019\n",
      "4         A1  2005        2  9.947724e+06  288483.988419\n",
      "..       ...   ...      ...           ...            ...\n",
      "802      A95  2004        1  2.727244e+05    7909.007232\n",
      "803      A96  2004        1  2.102245e+05    6096.511125\n",
      "804      A97  2004        1  0.000000e+00       0.000000\n",
      "805      A98  2004        1  0.000000e+00       0.000000\n",
      "806      A99  2004        1  1.174305e+05    3405.483407\n",
      "\n",
      "[807 rows x 5 columns]\n"
     ]
    }
   ],
   "source": [
    "#Impose an interest rate of 2.9% for each customer for any due amount.\n",
    "merged_df = pd.merge(df_Spend, df_Repayment, on='Costomer', how='inner')\n",
    "merged_df['Month_x'] = pd.to_datetime(merged_df['Month_x'], format='%d-%b-%y')\n",
    "merged_df['monthly'] = merged_df['Month_x'].dt.month\n",
    "merged_df['year'] = merged_df['Month_x'].dt.year\n",
    "\n",
    "monthly_spend = merged_df.groupby(['Costomer', 'year', 'monthly'])['Amount_x'].sum().reset_index(name='monthly_spend')\n",
    "monthly_repayment = merged_df.groupby(['Costomer', 'year', 'monthly'])['Amount_y'].sum().reset_index(name='monthly_repayment')\n",
    "\n",
    "merged_monthly = pd.merge(monthly_spend, monthly_repayment, on=['Costomer', 'year', 'monthly'], how='inner')\n",
    "\n",
    "merged_monthly['due_amount'] = merged_monthly['monthly_spend'] - merged_monthly['monthly_repayment']\n",
    "merged_monthly['due_amount'] = merged_monthly['due_amount'].apply(lambda x: x if x > 0 else 0)\n",
    "merged_monthly['interest'] = merged_monthly['due_amount'] * 0.029\n",
    "\n",
    "print(merged_monthly[['Costomer', 'year', 'monthly', 'due_amount', 'interest']])\n"
   ]
  },
  {
   "cell_type": "code",
   "execution_count": 4,
   "id": "da305e42",
   "metadata": {},
   "outputs": [
    {
     "name": "stdout",
     "output_type": "stream",
     "text": [
      "    monthly   Limit  monthly_spend  bank_profit\n",
      "0         1   10000   4.759426e+06       200.00\n",
      "1         1   10001   3.517977e+06       200.02\n",
      "2         1   10002   6.002265e+06       200.04\n",
      "3         1  100000   8.166313e+06      2000.00\n",
      "4         1  100001   5.125264e+06      2000.02\n",
      "..      ...     ...            ...          ...\n",
      "90       12  100000   5.156167e+05      2000.00\n",
      "91       12  100001   7.276435e+05      2000.02\n",
      "92       12  100002   7.156117e+05      2000.04\n",
      "93       12  100003   1.873394e+05      2000.06\n",
      "94       12  500000   2.701744e+06     10000.00\n",
      "\n",
      "[95 rows x 4 columns]\n"
     ]
    }
   ],
   "source": [
    "merged_df = df_Spend.merge(df_acquisition, left_on='Costomer', right_on='Costomer')\n",
    "merged_df['monthly'] = pd.to_datetime(merged_df['Month']).dt.month\n",
    "\n",
    "grouped = merged_df.groupby(['monthly', 'Limit'], as_index=False).agg(monthly_spend=('Amount', 'sum'))\n",
    "\n",
    "grouped['bank_profit'] = grouped.apply(\n",
    "    lambda row: row['Limit'] * 0.02 if row['monthly_spend'] > row['Limit'] else 0,\n",
    "    axis=1\n",
    ")\n",
    "\n",
    "print(grouped)"
   ]
  },
  {
   "cell_type": "code",
   "execution_count": null,
   "id": "f8eb0026",
   "metadata": {},
   "outputs": [],
   "source": []
  }
 ],
 "metadata": {
  "kernelspec": {
   "display_name": "Python 3 (ipykernel)",
   "language": "python",
   "name": "python3"
  },
  "language_info": {
   "codemirror_mode": {
    "name": "ipython",
    "version": 3
   },
   "file_extension": ".py",
   "mimetype": "text/x-python",
   "name": "python",
   "nbconvert_exporter": "python",
   "pygments_lexer": "ipython3",
   "version": "3.11.5"
  }
 },
 "nbformat": 4,
 "nbformat_minor": 5
}

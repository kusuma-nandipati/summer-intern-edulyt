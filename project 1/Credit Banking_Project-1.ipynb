{
 "cells": [
  {
   "cell_type": "code",
   "execution_count": null,
   "id": "7467cdb7",
   "metadata": {},
   "outputs": [],
   "source": [
    "#importing data\n",
    "import pandas as pd\n",
    "file_path = 'Credit Banking_Project - 1.xls' \n",
    "xls = pd.ExcelFile(file_path)\n",
    "print(xls.sheet_names)"
   ]
  },
  {
   "cell_type": "code",
   "execution_count": null,
   "id": "d1f339d0",
   "metadata": {
    "scrolled": true
   },
   "outputs": [],
   "source": [
    "#creating data frames for each sheet\n",
    "df_acquisition = pd.read_excel(xls, 'Customer Acqusition')\n",
    "df_Spend =pd.read_excel(xls,'Spend')\n",
    "df_Repayment=pd.read_excel(xls,'Repayment')"
   ]
  },
  {
   "cell_type": "code",
   "execution_count": null,
   "id": "e5d545f4",
   "metadata": {},
   "outputs": [],
   "source": [
    "import seaborn as sns \n",
    "import matplotlib.pyplot as plt\n",
    "plt.figure(figsize=(8,5))\n",
    "sns.histplot(df_acquisition['Age'],kde=True , bins=20,color='red', edgecolor='black')\n",
    "plt.title('Age Distribution')\n",
    "plt.xlabel('Age')\n",
    "plt.ylabel('Frequency')\n",
    "plt.grid(True)\n",
    "plt.show()"
   ]
  },
  {
   "cell_type": "code",
   "execution_count": null,
   "id": "8159b66d",
   "metadata": {},
   "outputs": [],
   "source": [
    "#treating age column\n",
    "df_adults= df_acquisition[df_acquisition['Age']>=18]\n",
    "print(df_adults)\n",
    "df_minors = df_acquisition[df_acquisition['Age']<18]\n",
    "print(df_minors)\n",
    "mean_adult_age = df_adults['Age'].mean()\n",
    "print(f\"Mean age of adults: {mean_adult_age}\")\n",
    "df_minors['Age'] = mean_adult_age\n",
    "df_acquisition.loc[df_acquisition['Age']<18,'Age']=mean_adult_age\n",
    "print(df_acquisition['Age'].mean())"
   ]
  },
  {
   "cell_type": "code",
   "execution_count": null,
   "id": "3e96ea19",
   "metadata": {},
   "outputs": [],
   "source": [
    "#montly spend of each customer\n",
    "df_Spend['Month']=pd.to_datetime(df_Spend['Month'],format ='%d-%b-%y')\n",
    "df_Spend['day']=df_Spend['Month'].dt.day\n",
    "df_Spend['month']=df_Spend['Month'].dt.month\n",
    "df_Spend['year']=df_Spend['Month'].dt.year\n",
    "grouped = df_Spend.groupby(['Costomer', 'year', 'month'])['Amount'].sum().reset_index()\n",
    "# grouped_df = grouped.apply(lambda x: x.reset_index(drop=True)).reset_index(drop=True)\n",
    "print(grouped[['Costomer', 'year', 'month', 'Amount']])\n",
    "#People in which segment are spending more money.\n",
    "total_spent = grouped.groupby('Costomer')['Amount'].sum().reset_index()\n",
    "top_1_customer = total_spent.sort_values(by='Amount', ascending=False).head(1)\n",
    "df_acquisition = df_acquisition.rename(columns={'Customer': 'Costomer'})\n",
    "merged_df = top_1_customer.merge(df_acquisition[['Costomer', 'Segment']], on='Costomer', how='left')\n",
    "merged_df"
   ]
  },
  {
   "cell_type": "code",
   "execution_count": null,
   "id": "d8b68c84",
   "metadata": {},
   "outputs": [],
   "source": [
    "#merging with Limit\n",
    "df_acquisition = df_acquisition.rename(columns={'Customer': 'Costomer'})\n",
    "merged_df = grouped.merge(df_acquisition[['Costomer', 'Limit']], on='Costomer', how='left')\n",
    "print(merged_df)\n",
    "#Comparing limit and monthly spent of customer\n",
    "print(\"customer who have spent more than his/her Credit Limit for any particular month\")\n",
    "over_limit = merged_df[merged_df['Amount'] > merged_df['Limit']]\n",
    "customers_over_limit = over_limit['Costomer'].unique()\n",
    "customers_over_limit"
   ]
  },
  {
   "cell_type": "code",
   "execution_count": null,
   "id": "ac480178",
   "metadata": {},
   "outputs": [],
   "source": [
    "#Monthly Repayment of each Costomer \n",
    "df_Repayment['month']=df_Repayment['Month'].dt.month\n",
    "df_Repayment['year']=df_Repayment['Month'].dt.year\n",
    "grouped=df_Repayment.groupby(['Costomer','month','year'])['Amount'].sum().reset_index()\n",
    "print(grouped[['Costomer','year','month','Amount']])\n",
    "#HIghest paying 10 customers\n",
    "total_repayment = grouped.groupby('Costomer')['Amount'].sum().reset_index()\n",
    "top_10_customers = total_repayment.sort_values(by='Amount', ascending=False).head(10)\n",
    "top_10_customers"
   ]
  },
  {
   "cell_type": "code",
   "execution_count": null,
   "id": "164b0e98",
   "metadata": {},
   "outputs": [],
   "source": [
    "#in which age group people are spending more money\n",
    "df_acquisition = df_acquisition.rename(columns={'Customer': 'Costomer'})\n",
    "merged_df = pd.merge(df_acquisition, df_Spend, left_on='Costomer', right_on='Costomer', how='inner')\n",
    "\n",
    "merged_df['age_group'] = pd.cut(merged_df['Age'],\n",
    "                                 bins=[-float('inf'), 18, 30, 40, float('inf')],\n",
    "                                 labels=['Under 18', '18-29', '30-39', '40 and above'],\n",
    "                                 right=False)\n",
    "merged_df[['Costomer','age_group','Amount']]\n",
    "grouped = merged_df.groupby('age_group')['Amount'].sum().reset_index()\n",
    "grouped = grouped.sort_values(by='Amount', ascending=False).reset_index(drop=True)\n",
    "value = grouped.loc[0, 'age_group']\n",
    "print(\"the highest spending age group is---- \", value)"
   ]
  },
  {
   "cell_type": "code",
   "execution_count": null,
   "id": "82e40869",
   "metadata": {},
   "outputs": [],
   "source": [
    "spend_merged = pd.merge(df_acquisition[['Costomer', 'Segment']], df_Spend, on='Costomer', how='inner')\n",
    "repay_merged = pd.merge(df_acquisition[['Costomer', 'Segment']], df_Repayment, on='Costomer', how='inner')\n",
    "\n",
    "spend_by_segment = spend_merged.groupby('Segment')['Amount'].sum().reset_index(name='Total_Spend')\n",
    "repay_by_segment = repay_merged.groupby('Segment')['Amount'].sum().reset_index(name='Total_Repayment')\n",
    "\n",
    "profit_df = pd.merge(spend_by_segment, repay_by_segment, on='Segment')\n",
    "profit_df['Profit'] = profit_df['Total_Repayment'] - profit_df['Total_Spend']\n",
    "most_profitable = profit_df.sort_values(by='Profit', ascending=False).reset_index(drop=True)\n",
    "print(most_profitable)\n",
    "value=most_profitable.loc[0,'Segment']\n",
    "print(\"the mose profitable segment is----\",value)"
   ]
  },
  {
   "cell_type": "code",
   "execution_count": null,
   "id": "fc5b64c7",
   "metadata": {},
   "outputs": [],
   "source": [
    "#In which category the customers are spending more money?\n",
    "grouped=df_Spend.groupby(['Type'])['Amount'].sum().reset_index()\n",
    "most_spend_category=grouped.sort_values(by='Amount',ascending=False).reset_index(drop=True)\n",
    "most_spend_category\n",
    "value=most_spend_category.loc[0,'Type']\n",
    "print(\"the most spending Category is----\",value)"
   ]
  },
  {
   "cell_type": "code",
   "execution_count": null,
   "id": "6445440a",
   "metadata": {},
   "outputs": [],
   "source": [
    "#Impose an interest rate of 2.9% for each customer for any due amount.\n",
    "merged_df = pd.merge(df_Spend, df_Repayment, on='Costomer', how='inner')\n",
    "merged_df['Month_x'] = pd.to_datetime(merged_df['Month_x'], format='%d-%b-%y')\n",
    "merged_df['monthly'] = merged_df['Month_x'].dt.month\n",
    "merged_df['year'] = merged_df['Month_x'].dt.year\n",
    "\n",
    "monthly_spend = merged_df.groupby(['Costomer', 'year', 'monthly'])['Amount_x'].sum().reset_index(name='monthly_spend')\n",
    "monthly_repayment = merged_df.groupby(['Costomer', 'year', 'monthly'])['Amount_y'].sum().reset_index(name='monthly_repayment')\n",
    "\n",
    "merged_monthly = pd.merge(monthly_spend, monthly_repayment, on=['Costomer', 'year', 'monthly'], how='inner')\n",
    "\n",
    "merged_monthly['due_amount'] = merged_monthly['monthly_spend'] - merged_monthly['monthly_repayment']\n",
    "merged_monthly['due_amount'] = merged_monthly['due_amount'].apply(lambda x: x if x > 0 else 0)\n",
    "merged_monthly['interest'] = merged_monthly['due_amount'] * 0.029\n",
    "\n",
    "print(merged_monthly[['Costomer', 'year', 'monthly', 'due_amount', 'interest']])\n"
   ]
  },
  {
   "cell_type": "code",
   "execution_count": null,
   "id": "da305e42",
   "metadata": {},
   "outputs": [],
   "source": [
    "merged_df = df_Spend.merge(df_acquisition, left_on='Costomer', right_on='Costomer')\n",
    "merged_df['monthly'] = pd.to_datetime(merged_df['Month']).dt.month\n",
    "\n",
    "grouped = merged_df.groupby(['monthly', 'Limit'], as_index=False).agg(monthly_spend=('Amount', 'sum'))\n",
    "\n",
    "grouped['bank_profit'] = grouped.apply(\n",
    "    lambda row: row['Limit'] * 0.02 if row['monthly_spend'] > row['Limit'] else 0,\n",
    "    axis=1\n",
    ")\n",
    "\n",
    "print(grouped)"
   ]
  },
  {
   "cell_type": "code",
   "execution_count": null,
   "id": "f8eb0026",
   "metadata": {},
   "outputs": [],
   "source": []
  }
 ],
 "metadata": {
  "kernelspec": {
   "display_name": "Python 3 (ipykernel)",
   "language": "python",
   "name": "python3"
  },
  "language_info": {
   "codemirror_mode": {
    "name": "ipython",
    "version": 3
   },
   "file_extension": ".py",
   "mimetype": "text/x-python",
   "name": "python",
   "nbconvert_exporter": "python",
   "pygments_lexer": "ipython3",
   "version": "3.11.5"
  }
 },
 "nbformat": 4,
 "nbformat_minor": 5
}
